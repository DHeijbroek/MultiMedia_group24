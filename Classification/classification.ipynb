{
 "cells": [
  {
   "cell_type": "code",
   "execution_count": 68,
   "metadata": {},
   "outputs": [],
   "source": [
    "import pandas as pd\n",
    "import seaborn as sns\n",
    "\n",
    "from sklearn.model_selection import (\n",
    "    train_test_split, \n",
    "    cross_val_score, \n",
    "    cross_val_predict,\n",
    "    KFold)\n",
    "\n",
    "from sklearn.pipeline import make_pipeline\n",
    "from sklearn.preprocessing import StandardScaler\n",
    "from sklearn.svm import SVC\n",
    "\n",
    "from sklearn import metrics"
   ]
  },
  {
   "attachments": {},
   "cell_type": "markdown",
   "metadata": {},
   "source": [
    "## Load data"
   ]
  },
  {
   "cell_type": "code",
   "execution_count": 97,
   "metadata": {},
   "outputs": [],
   "source": [
    "# load visual features\n",
    "visual_features = pd.read_csv('../Py-Feat-main/video_features.csv', index_col=0)\n",
    "\n",
    "# load labels\n",
    "labels = pd.read_csv('../Py-Feat-main/labels.csv', index_col=0, delimiter=';')\n",
    "\n",
    "# load speech to text features\n",
    "audio_features = pd.read_csv('merged.csv')"
   ]
  },
  {
   "cell_type": "code",
   "execution_count": 98,
   "metadata": {},
   "outputs": [
    {
     "data": {
      "text/html": [
       "<div>\n",
       "<style scoped>\n",
       "    .dataframe tbody tr th:only-of-type {\n",
       "        vertical-align: middle;\n",
       "    }\n",
       "\n",
       "    .dataframe tbody tr th {\n",
       "        vertical-align: top;\n",
       "    }\n",
       "\n",
       "    .dataframe thead th {\n",
       "        text-align: right;\n",
       "    }\n",
       "</style>\n",
       "<table border=\"1\" class=\"dataframe\">\n",
       "  <thead>\n",
       "    <tr style=\"text-align: right;\">\n",
       "      <th></th>\n",
       "      <th>VideoID</th>\n",
       "      <th>Sponsored</th>\n",
       "      <th>Sentiment</th>\n",
       "      <th>Transcription</th>\n",
       "      <th>Sentiment_RoBERTa</th>\n",
       "      <th>Probability</th>\n",
       "    </tr>\n",
       "  </thead>\n",
       "  <tbody>\n",
       "    <tr>\n",
       "      <th>0</th>\n",
       "      <td>7215716180294683946</td>\n",
       "      <td>Yes</td>\n",
       "      <td>Postive</td>\n",
       "      <td>The confidence boost, a glowy and dewy base g...</td>\n",
       "      <td>POSITIVE</td>\n",
       "      <td>0.998888</td>\n",
       "    </tr>\n",
       "    <tr>\n",
       "      <th>1</th>\n",
       "      <td>7210487841732840746</td>\n",
       "      <td>Yes</td>\n",
       "      <td>Positive</td>\n",
       "      <td>Watch how I create this glowing skin makeup b...</td>\n",
       "      <td>POSITIVE</td>\n",
       "      <td>0.998891</td>\n",
       "    </tr>\n",
       "    <tr>\n",
       "      <th>2</th>\n",
       "      <td>7218032675850849582</td>\n",
       "      <td>Yes</td>\n",
       "      <td>Positive</td>\n",
       "      <td>I get why this cream by Charlotte Tilbury is ...</td>\n",
       "      <td>POSITIVE</td>\n",
       "      <td>0.998886</td>\n",
       "    </tr>\n",
       "    <tr>\n",
       "      <th>3</th>\n",
       "      <td>7102205817524555054</td>\n",
       "      <td>Yes</td>\n",
       "      <td>Positive</td>\n",
       "      <td>Thanks for watching guys!</td>\n",
       "      <td>POSITIVE</td>\n",
       "      <td>0.998800</td>\n",
       "    </tr>\n",
       "    <tr>\n",
       "      <th>4</th>\n",
       "      <td>7220512664575986990</td>\n",
       "      <td>Yes</td>\n",
       "      <td>Positive</td>\n",
       "      <td>I love it. I love it more. I love it!</td>\n",
       "      <td>POSITIVE</td>\n",
       "      <td>0.998859</td>\n",
       "    </tr>\n",
       "    <tr>\n",
       "      <th>...</th>\n",
       "      <td>...</td>\n",
       "      <td>...</td>\n",
       "      <td>...</td>\n",
       "      <td>...</td>\n",
       "      <td>...</td>\n",
       "      <td>...</td>\n",
       "    </tr>\n",
       "    <tr>\n",
       "      <th>75</th>\n",
       "      <td>6990818542262226181</td>\n",
       "      <td>No</td>\n",
       "      <td>Positive</td>\n",
       "      <td>I need no one. You're exciting boy, confining...</td>\n",
       "      <td>POSITIVE</td>\n",
       "      <td>0.997434</td>\n",
       "    </tr>\n",
       "    <tr>\n",
       "      <th>76</th>\n",
       "      <td>7166197472560254213</td>\n",
       "      <td>No</td>\n",
       "      <td>Positive</td>\n",
       "      <td>You and I baby, who cares, I don't need to ca...</td>\n",
       "      <td>NEGATIVE</td>\n",
       "      <td>0.998331</td>\n",
       "    </tr>\n",
       "    <tr>\n",
       "      <th>77</th>\n",
       "      <td>7203417189737565446</td>\n",
       "      <td>No</td>\n",
       "      <td>Positive</td>\n",
       "      <td>Look at this. Oh! Perfect. Oh my God. Isn't i...</td>\n",
       "      <td>POSITIVE</td>\n",
       "      <td>0.998657</td>\n",
       "    </tr>\n",
       "    <tr>\n",
       "      <th>78</th>\n",
       "      <td>7098279023851097349</td>\n",
       "      <td>No</td>\n",
       "      <td>Neutral</td>\n",
       "      <td>Okay, I need some assistance. Has any of you ...</td>\n",
       "      <td>NEGATIVE</td>\n",
       "      <td>0.993177</td>\n",
       "    </tr>\n",
       "    <tr>\n",
       "      <th>79</th>\n",
       "      <td>7182239739980958982</td>\n",
       "      <td>No</td>\n",
       "      <td>Neutral</td>\n",
       "      <td>Yesterday I went to SACS and I got some shall...</td>\n",
       "      <td>POSITIVE</td>\n",
       "      <td>0.998789</td>\n",
       "    </tr>\n",
       "  </tbody>\n",
       "</table>\n",
       "<p>80 rows × 6 columns</p>\n",
       "</div>"
      ],
      "text/plain": [
       "                VideoID Sponsored Sentiment  \\\n",
       "0   7215716180294683946       Yes   Postive   \n",
       "1   7210487841732840746       Yes  Positive   \n",
       "2   7218032675850849582       Yes  Positive   \n",
       "3   7102205817524555054       Yes  Positive   \n",
       "4   7220512664575986990       Yes  Positive   \n",
       "..                  ...       ...       ...   \n",
       "75  6990818542262226181        No  Positive   \n",
       "76  7166197472560254213        No  Positive   \n",
       "77  7203417189737565446        No  Positive   \n",
       "78  7098279023851097349        No   Neutral   \n",
       "79  7182239739980958982        No   Neutral   \n",
       "\n",
       "                                        Transcription Sentiment_RoBERTa  \\\n",
       "0    The confidence boost, a glowy and dewy base g...          POSITIVE   \n",
       "1    Watch how I create this glowing skin makeup b...          POSITIVE   \n",
       "2    I get why this cream by Charlotte Tilbury is ...          POSITIVE   \n",
       "3                           Thanks for watching guys!          POSITIVE   \n",
       "4               I love it. I love it more. I love it!          POSITIVE   \n",
       "..                                                ...               ...   \n",
       "75   I need no one. You're exciting boy, confining...          POSITIVE   \n",
       "76   You and I baby, who cares, I don't need to ca...          NEGATIVE   \n",
       "77   Look at this. Oh! Perfect. Oh my God. Isn't i...          POSITIVE   \n",
       "78   Okay, I need some assistance. Has any of you ...          NEGATIVE   \n",
       "79   Yesterday I went to SACS and I got some shall...          POSITIVE   \n",
       "\n",
       "    Probability  \n",
       "0      0.998888  \n",
       "1      0.998891  \n",
       "2      0.998886  \n",
       "3      0.998800  \n",
       "4      0.998859  \n",
       "..          ...  \n",
       "75     0.997434  \n",
       "76     0.998331  \n",
       "77     0.998657  \n",
       "78     0.993177  \n",
       "79     0.998789  \n",
       "\n",
       "[80 rows x 6 columns]"
      ]
     },
     "execution_count": 98,
     "metadata": {},
     "output_type": "execute_result"
    }
   ],
   "source": [
    "audio_features"
   ]
  },
  {
   "attachments": {},
   "cell_type": "markdown",
   "metadata": {},
   "source": [
    "Merge the different feature sets with the corresponding labels"
   ]
  },
  {
   "cell_type": "code",
   "execution_count": 101,
   "metadata": {},
   "outputs": [],
   "source": [
    "merged_df = (labels\n",
    "             .reset_index()\n",
    "             .merge(visual_features.reset_index(), \n",
    "                    left_on=\"VideoID\", \n",
    "                    right_on=\"video_id\")\n",
    "             .drop(columns=[\"Sponsored\", \"Sentiment\"])\n",
    "             .merge(audio_features, \n",
    "                    on=\"VideoID\")\n",
    "             .drop(columns='VideoID')\n",
    "             )"
   ]
  },
  {
   "cell_type": "code",
   "execution_count": 103,
   "metadata": {},
   "outputs": [
    {
     "data": {
      "text/html": [
       "<div>\n",
       "<style scoped>\n",
       "    .dataframe tbody tr th:only-of-type {\n",
       "        vertical-align: middle;\n",
       "    }\n",
       "\n",
       "    .dataframe tbody tr th {\n",
       "        vertical-align: top;\n",
       "    }\n",
       "\n",
       "    .dataframe thead th {\n",
       "        text-align: right;\n",
       "    }\n",
       "</style>\n",
       "<table border=\"1\" class=\"dataframe\">\n",
       "  <thead>\n",
       "    <tr style=\"text-align: right;\">\n",
       "      <th></th>\n",
       "      <th>video_id</th>\n",
       "      <th>anger</th>\n",
       "      <th>disgust</th>\n",
       "      <th>fear</th>\n",
       "      <th>happy</th>\n",
       "      <th>neutral</th>\n",
       "      <th>sad</th>\n",
       "      <th>surprise</th>\n",
       "      <th>total_mean</th>\n",
       "      <th>negative_mean</th>\n",
       "      <th>Sponsored</th>\n",
       "      <th>Sentiment</th>\n",
       "      <th>Transcription</th>\n",
       "      <th>Sentiment_RoBERTa</th>\n",
       "      <th>Probability</th>\n",
       "    </tr>\n",
       "  </thead>\n",
       "  <tbody>\n",
       "    <tr>\n",
       "      <th>0</th>\n",
       "      <td>7215716180294683946</td>\n",
       "      <td>0.010000</td>\n",
       "      <td>0.150000</td>\n",
       "      <td>0.170000</td>\n",
       "      <td>0.340000</td>\n",
       "      <td>0.770000</td>\n",
       "      <td>0.590000</td>\n",
       "      <td>0.330000</td>\n",
       "      <td>0.337143</td>\n",
       "      <td>0.230000</td>\n",
       "      <td>Yes</td>\n",
       "      <td>Postive</td>\n",
       "      <td>The confidence boost, a glowy and dewy base g...</td>\n",
       "      <td>POSITIVE</td>\n",
       "      <td>0.998888</td>\n",
       "    </tr>\n",
       "    <tr>\n",
       "      <th>1</th>\n",
       "      <td>7210487841732840746</td>\n",
       "      <td>0.012195</td>\n",
       "      <td>0.658537</td>\n",
       "      <td>0.243902</td>\n",
       "      <td>0.085366</td>\n",
       "      <td>0.878049</td>\n",
       "      <td>0.219512</td>\n",
       "      <td>0.573171</td>\n",
       "      <td>0.381533</td>\n",
       "      <td>0.283537</td>\n",
       "      <td>Yes</td>\n",
       "      <td>Positive</td>\n",
       "      <td>Watch how I create this glowing skin makeup b...</td>\n",
       "      <td>POSITIVE</td>\n",
       "      <td>0.998891</td>\n",
       "    </tr>\n",
       "    <tr>\n",
       "      <th>2</th>\n",
       "      <td>7218032675850849582</td>\n",
       "      <td>0.035714</td>\n",
       "      <td>0.375000</td>\n",
       "      <td>0.178571</td>\n",
       "      <td>0.035714</td>\n",
       "      <td>0.785714</td>\n",
       "      <td>0.339286</td>\n",
       "      <td>0.678571</td>\n",
       "      <td>0.346939</td>\n",
       "      <td>0.232143</td>\n",
       "      <td>Yes</td>\n",
       "      <td>Positive</td>\n",
       "      <td>I get why this cream by Charlotte Tilbury is ...</td>\n",
       "      <td>POSITIVE</td>\n",
       "      <td>0.998886</td>\n",
       "    </tr>\n",
       "    <tr>\n",
       "      <th>3</th>\n",
       "      <td>7102205817524555054</td>\n",
       "      <td>0.025000</td>\n",
       "      <td>0.100000</td>\n",
       "      <td>0.175000</td>\n",
       "      <td>0.250000</td>\n",
       "      <td>0.575000</td>\n",
       "      <td>0.600000</td>\n",
       "      <td>0.125000</td>\n",
       "      <td>0.264286</td>\n",
       "      <td>0.225000</td>\n",
       "      <td>Yes</td>\n",
       "      <td>Positive</td>\n",
       "      <td>Thanks for watching guys!</td>\n",
       "      <td>POSITIVE</td>\n",
       "      <td>0.998800</td>\n",
       "    </tr>\n",
       "    <tr>\n",
       "      <th>4</th>\n",
       "      <td>7220512664575986990</td>\n",
       "      <td>0.000000</td>\n",
       "      <td>0.823529</td>\n",
       "      <td>0.235294</td>\n",
       "      <td>0.058824</td>\n",
       "      <td>0.882353</td>\n",
       "      <td>0.529412</td>\n",
       "      <td>0.294118</td>\n",
       "      <td>0.403361</td>\n",
       "      <td>0.397059</td>\n",
       "      <td>Yes</td>\n",
       "      <td>Positive</td>\n",
       "      <td>I love it. I love it more. I love it!</td>\n",
       "      <td>POSITIVE</td>\n",
       "      <td>0.998859</td>\n",
       "    </tr>\n",
       "    <tr>\n",
       "      <th>...</th>\n",
       "      <td>...</td>\n",
       "      <td>...</td>\n",
       "      <td>...</td>\n",
       "      <td>...</td>\n",
       "      <td>...</td>\n",
       "      <td>...</td>\n",
       "      <td>...</td>\n",
       "      <td>...</td>\n",
       "      <td>...</td>\n",
       "      <td>...</td>\n",
       "      <td>...</td>\n",
       "      <td>...</td>\n",
       "      <td>...</td>\n",
       "      <td>...</td>\n",
       "      <td>...</td>\n",
       "    </tr>\n",
       "    <tr>\n",
       "      <th>75</th>\n",
       "      <td>6990818542262226181</td>\n",
       "      <td>0.016807</td>\n",
       "      <td>0.840336</td>\n",
       "      <td>0.445378</td>\n",
       "      <td>0.084034</td>\n",
       "      <td>0.882353</td>\n",
       "      <td>0.386555</td>\n",
       "      <td>0.470588</td>\n",
       "      <td>0.446579</td>\n",
       "      <td>0.422269</td>\n",
       "      <td>No</td>\n",
       "      <td>Positive</td>\n",
       "      <td>I need no one. You're exciting boy, confining...</td>\n",
       "      <td>POSITIVE</td>\n",
       "      <td>0.997434</td>\n",
       "    </tr>\n",
       "    <tr>\n",
       "      <th>76</th>\n",
       "      <td>7166197472560254213</td>\n",
       "      <td>0.094118</td>\n",
       "      <td>0.894118</td>\n",
       "      <td>0.223529</td>\n",
       "      <td>0.058824</td>\n",
       "      <td>0.929412</td>\n",
       "      <td>0.094118</td>\n",
       "      <td>0.235294</td>\n",
       "      <td>0.361345</td>\n",
       "      <td>0.326471</td>\n",
       "      <td>No</td>\n",
       "      <td>Positive</td>\n",
       "      <td>You and I baby, who cares, I don't need to ca...</td>\n",
       "      <td>NEGATIVE</td>\n",
       "      <td>0.998331</td>\n",
       "    </tr>\n",
       "    <tr>\n",
       "      <th>77</th>\n",
       "      <td>7203417189737565446</td>\n",
       "      <td>0.000000</td>\n",
       "      <td>0.245283</td>\n",
       "      <td>0.264151</td>\n",
       "      <td>0.000000</td>\n",
       "      <td>0.396226</td>\n",
       "      <td>0.358491</td>\n",
       "      <td>0.396226</td>\n",
       "      <td>0.237197</td>\n",
       "      <td>0.216981</td>\n",
       "      <td>No</td>\n",
       "      <td>Positive</td>\n",
       "      <td>Look at this. Oh! Perfect. Oh my God. Isn't i...</td>\n",
       "      <td>POSITIVE</td>\n",
       "      <td>0.998657</td>\n",
       "    </tr>\n",
       "    <tr>\n",
       "      <th>78</th>\n",
       "      <td>7098279023851097349</td>\n",
       "      <td>0.000000</td>\n",
       "      <td>0.000000</td>\n",
       "      <td>0.106383</td>\n",
       "      <td>0.595745</td>\n",
       "      <td>0.361702</td>\n",
       "      <td>0.510638</td>\n",
       "      <td>0.255319</td>\n",
       "      <td>0.261398</td>\n",
       "      <td>0.154255</td>\n",
       "      <td>No</td>\n",
       "      <td>Neutral</td>\n",
       "      <td>Okay, I need some assistance. Has any of you ...</td>\n",
       "      <td>NEGATIVE</td>\n",
       "      <td>0.993177</td>\n",
       "    </tr>\n",
       "    <tr>\n",
       "      <th>79</th>\n",
       "      <td>7182239739980958982</td>\n",
       "      <td>0.068627</td>\n",
       "      <td>0.460784</td>\n",
       "      <td>0.519608</td>\n",
       "      <td>0.049020</td>\n",
       "      <td>0.794118</td>\n",
       "      <td>0.480392</td>\n",
       "      <td>0.823529</td>\n",
       "      <td>0.456583</td>\n",
       "      <td>0.382353</td>\n",
       "      <td>No</td>\n",
       "      <td>Neutral</td>\n",
       "      <td>Yesterday I went to SACS and I got some shall...</td>\n",
       "      <td>POSITIVE</td>\n",
       "      <td>0.998789</td>\n",
       "    </tr>\n",
       "  </tbody>\n",
       "</table>\n",
       "<p>80 rows × 15 columns</p>\n",
       "</div>"
      ],
      "text/plain": [
       "               video_id     anger   disgust      fear     happy   neutral  \\\n",
       "0   7215716180294683946  0.010000  0.150000  0.170000  0.340000  0.770000   \n",
       "1   7210487841732840746  0.012195  0.658537  0.243902  0.085366  0.878049   \n",
       "2   7218032675850849582  0.035714  0.375000  0.178571  0.035714  0.785714   \n",
       "3   7102205817524555054  0.025000  0.100000  0.175000  0.250000  0.575000   \n",
       "4   7220512664575986990  0.000000  0.823529  0.235294  0.058824  0.882353   \n",
       "..                  ...       ...       ...       ...       ...       ...   \n",
       "75  6990818542262226181  0.016807  0.840336  0.445378  0.084034  0.882353   \n",
       "76  7166197472560254213  0.094118  0.894118  0.223529  0.058824  0.929412   \n",
       "77  7203417189737565446  0.000000  0.245283  0.264151  0.000000  0.396226   \n",
       "78  7098279023851097349  0.000000  0.000000  0.106383  0.595745  0.361702   \n",
       "79  7182239739980958982  0.068627  0.460784  0.519608  0.049020  0.794118   \n",
       "\n",
       "         sad  surprise  total_mean  negative_mean Sponsored Sentiment  \\\n",
       "0   0.590000  0.330000    0.337143       0.230000       Yes   Postive   \n",
       "1   0.219512  0.573171    0.381533       0.283537       Yes  Positive   \n",
       "2   0.339286  0.678571    0.346939       0.232143       Yes  Positive   \n",
       "3   0.600000  0.125000    0.264286       0.225000       Yes  Positive   \n",
       "4   0.529412  0.294118    0.403361       0.397059       Yes  Positive   \n",
       "..       ...       ...         ...            ...       ...       ...   \n",
       "75  0.386555  0.470588    0.446579       0.422269        No  Positive   \n",
       "76  0.094118  0.235294    0.361345       0.326471        No  Positive   \n",
       "77  0.358491  0.396226    0.237197       0.216981        No  Positive   \n",
       "78  0.510638  0.255319    0.261398       0.154255        No   Neutral   \n",
       "79  0.480392  0.823529    0.456583       0.382353        No   Neutral   \n",
       "\n",
       "                                        Transcription Sentiment_RoBERTa  \\\n",
       "0    The confidence boost, a glowy and dewy base g...          POSITIVE   \n",
       "1    Watch how I create this glowing skin makeup b...          POSITIVE   \n",
       "2    I get why this cream by Charlotte Tilbury is ...          POSITIVE   \n",
       "3                           Thanks for watching guys!          POSITIVE   \n",
       "4               I love it. I love it more. I love it!          POSITIVE   \n",
       "..                                                ...               ...   \n",
       "75   I need no one. You're exciting boy, confining...          POSITIVE   \n",
       "76   You and I baby, who cares, I don't need to ca...          NEGATIVE   \n",
       "77   Look at this. Oh! Perfect. Oh my God. Isn't i...          POSITIVE   \n",
       "78   Okay, I need some assistance. Has any of you ...          NEGATIVE   \n",
       "79   Yesterday I went to SACS and I got some shall...          POSITIVE   \n",
       "\n",
       "    Probability  \n",
       "0      0.998888  \n",
       "1      0.998891  \n",
       "2      0.998886  \n",
       "3      0.998800  \n",
       "4      0.998859  \n",
       "..          ...  \n",
       "75     0.997434  \n",
       "76     0.998331  \n",
       "77     0.998657  \n",
       "78     0.993177  \n",
       "79     0.998789  \n",
       "\n",
       "[80 rows x 15 columns]"
      ]
     },
     "execution_count": 103,
     "metadata": {},
     "output_type": "execute_result"
    }
   ],
   "source": [
    "merged_df"
   ]
  },
  {
   "attachments": {},
   "cell_type": "markdown",
   "metadata": {},
   "source": [
    "## Split data\n"
   ]
  },
  {
   "cell_type": "code",
   "execution_count": 104,
   "metadata": {},
   "outputs": [],
   "source": [
    "# Load label\n",
    "y = merged_df.Sentiment.replace({'Positive': 1, 'Postive': 1, 'Neutral': 0, 'Negative': 0})\n",
    "\n",
    "# Load roBERTa labels\n",
    "y_roberta = merged_df.Sentiment_RoBERTa.replace({'POSITIVE': 1, 'NEGATIVE': 0})\n",
    "\n",
    "# load features\n",
    "X = merged_df[['anger', 'disgust', 'fear', 'happy', 'neutral', 'sad', 'surprise', 'total_mean', 'negative_mean']]"
   ]
  },
  {
   "attachments": {},
   "cell_type": "markdown",
   "metadata": {},
   "source": [
    "### Rerun based on 5 different splits for cross validation"
   ]
  },
  {
   "cell_type": "code",
   "execution_count": 115,
   "metadata": {},
   "outputs": [],
   "source": [
    "from sklearn.ensemble import RandomForestClassifier"
   ]
  },
  {
   "cell_type": "code",
   "execution_count": 116,
   "metadata": {},
   "outputs": [
    {
     "name": "stdout",
     "output_type": "stream",
     "text": [
      "0.71 accuracy with a standard deviation of 0.09\n"
     ]
    }
   ],
   "source": [
    "# clf = SVC(kernel='rbf', random_state=24, gamma='scale', probability=True)\n",
    "clf = RandomForestClassifier(max_depth=6, random_state=24)\n",
    "cv = KFold(n_splits=5, random_state=24, shuffle=True)\n",
    "\n",
    "# load predictions\n",
    "y_pred = cross_val_predict(clf, X, y, cv=cv)\n",
    "y_pred_prob_a = cross_val_predict(clf, X, y, cv=cv, method='predict_proba')\n",
    "\n",
    "# print overal score\n",
    "scores = cross_val_score(clf, X, y, cv=cv)\n",
    "print(\"%0.2f accuracy with a standard deviation of %0.2f\" % (scores.mean(), scores.std()))"
   ]
  },
  {
   "attachments": {},
   "cell_type": "markdown",
   "metadata": {},
   "source": [
    "## Plot confusion matrices"
   ]
  },
  {
   "attachments": {},
   "cell_type": "markdown",
   "metadata": {},
   "source": [
    "### Confusion matrix for visual features"
   ]
  },
  {
   "cell_type": "code",
   "execution_count": 117,
   "metadata": {},
   "outputs": [],
   "source": [
    "cm = metrics.confusion_matrix(y, y_pred)"
   ]
  },
  {
   "cell_type": "code",
   "execution_count": 118,
   "metadata": {},
   "outputs": [
    {
     "data": {
      "text/plain": [
       "<Axes: >"
      ]
     },
     "execution_count": 118,
     "metadata": {},
     "output_type": "execute_result"
    },
    {
     "data": {
      "image/png": "[encoded data removed]",
      "text/plain": [
       "<Figure size 640x480 with 2 Axes>"
      ]
     },
     "metadata": {},
     "output_type": "display_data"
    }
   ],
   "source": [
    "sns.heatmap(cm, annot=True)"
   ]
  },
  {
   "attachments": {},
   "cell_type": "markdown",
   "metadata": {},
   "source": [
    "### Confusion matrix for audio features"
   ]
  },
  {
   "cell_type": "code",
   "execution_count": 119,
   "metadata": {},
   "outputs": [],
   "source": [
    "cm = metrics.confusion_matrix(y, y_roberta)"
   ]
  },
  {
   "cell_type": "code",
   "execution_count": 120,
   "metadata": {},
   "outputs": [
    {
     "data": {
      "text/plain": [
       "<Axes: >"
      ]
     },
     "execution_count": 120,
     "metadata": {},
     "output_type": "execute_result"
    },
    {
     "data": {
      "image/png": "[encoded data removed]",
      "text/plain": [
       "<Figure size 640x480 with 2 Axes>"
      ]
     },
     "metadata": {},
     "output_type": "display_data"
    }
   ],
   "source": [
    "sns.heatmap(cm, annot=True)"
   ]
  },
  {
   "attachments": {},
   "cell_type": "markdown",
   "metadata": {},
   "source": [
    "### Late fusion"
   ]
  },
  {
   "cell_type": "code",
   "execution_count": 140,
   "metadata": {},
   "outputs": [],
   "source": [
    "pos = []\n",
    "for x0, x1, y0, y1 in zip(y_pred, y_pred_prob_a, y_roberta, merged_df.Probability):\n",
    "    \n",
    "    if x0 == y0:\n",
    "        pos.append(x0)\n",
    "        \n",
    "    else:\n",
    "        # due to the high probability of roberta, roberta is most likely correct.\n",
    "        # in case the random forest classifier is almost certain the sentiment is negative\n",
    "        # choose for the decision of the random forest classifier\n",
    "        if x1[0] >= .9:\n",
    "            pos.append(x0)\n",
    "        else:\n",
    "            pos.append(y0)"
   ]
  },
  {
   "cell_type": "code",
   "execution_count": 141,
   "metadata": {},
   "outputs": [],
   "source": [
    "cm = metrics.confusion_matrix(y, pos)"
   ]
  },
  {
   "cell_type": "code",
   "execution_count": 142,
   "metadata": {},
   "outputs": [
    {
     "data": {
      "text/plain": [
       "<Axes: >"
      ]
     },
     "execution_count": 142,
     "metadata": {},
     "output_type": "execute_result"
    },
    {
     "data": {
      "image/png": "[encoded data removed]",
      "text/plain": [
       "<Figure size 640x480 with 2 Axes>"
      ]
     },
     "metadata": {},
     "output_type": "display_data"
    }
   ],
   "source": [
    "sns.heatmap(cm, annot=True)"
   ]
  }
 ],
 "metadata": {
  "kernelspec": {
   "display_name": "mmsr_redo",
   "language": "python",
   "name": "python3"
  },
  "language_info": {
   "codemirror_mode": {
    "name": "ipython",
    "version": 3
   },
   "file_extension": ".py",
   "mimetype": "text/x-python",
   "name": "python",
   "nbconvert_exporter": "python",
   "pygments_lexer": "ipython3",
   "version": "3.10.11"
  },
  "orig_nbformat": 4
 },
 "nbformat": 4,
 "nbformat_minor": 2
}

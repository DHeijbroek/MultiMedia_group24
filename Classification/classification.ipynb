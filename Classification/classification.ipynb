{
 "cells": [
  {
   "cell_type": "code",
   "execution_count": 68,
   "metadata": {},
   "outputs": [],
   "source": [
    "import pandas as pd\n",
    "import seaborn as sns\n",
    "\n",
    "from sklearn.model_selection import (\n",
    "    train_test_split, \n",
    "    cross_val_score, \n",
    "    cross_val_predict,\n",
    "    KFold)\n",
    "\n",
    "from sklearn.pipeline import make_pipeline\n",
    "from sklearn.preprocessing import StandardScaler\n",
    "from sklearn.svm import SVC\n",
    "\n",
    "from sklearn import metrics"
   ]
  },
  {
   "attachments": {},
   "cell_type": "markdown",
   "metadata": {},
   "source": [
    "## Load data"
   ]
  },
  {
   "cell_type": "code",
   "execution_count": 15,
   "metadata": {},
   "outputs": [],
   "source": [
    "# load visual features\n",
    "visual_features = pd.read_csv('../Py-Feat-main/video_features.csv', index_col=0)\n",
    "\n",
    "# load labels\n",
    "labels = pd.read_csv('../Py-Feat-main/labels.csv', index_col=0, delimiter=';')\n",
    "\n",
    "# load speech to text features"
   ]
  },
  {
   "attachments": {},
   "cell_type": "markdown",
   "metadata": {},
   "source": [
    "Merge the different feature sets with the corresponding labels"
   ]
  },
  {
   "cell_type": "code",
   "execution_count": 22,
   "metadata": {},
   "outputs": [],
   "source": [
    "merged_df = labels.reset_index().merge(visual_features.reset_index(), left_on=\"VideoID\", right_on=\"video_id\").drop(columns='VideoID')"
   ]
  },
  {
   "cell_type": "code",
   "execution_count": 24,
   "metadata": {},
   "outputs": [
    {
     "data": {
      "text/html": [
       "<div>\n",
       "<style scoped>\n",
       "    .dataframe tbody tr th:only-of-type {\n",
       "        vertical-align: middle;\n",
       "    }\n",
       "\n",
       "    .dataframe tbody tr th {\n",
       "        vertical-align: top;\n",
       "    }\n",
       "\n",
       "    .dataframe thead th {\n",
       "        text-align: right;\n",
       "    }\n",
       "</style>\n",
       "<table border=\"1\" class=\"dataframe\">\n",
       "  <thead>\n",
       "    <tr style=\"text-align: right;\">\n",
       "      <th></th>\n",
       "      <th>Sponsored</th>\n",
       "      <th>Sentiment</th>\n",
       "      <th>video_id</th>\n",
       "      <th>anger</th>\n",
       "      <th>disgust</th>\n",
       "      <th>fear</th>\n",
       "      <th>happy</th>\n",
       "      <th>neutral</th>\n",
       "      <th>sad</th>\n",
       "      <th>surprise</th>\n",
       "      <th>total_mean</th>\n",
       "      <th>negative_mean</th>\n",
       "    </tr>\n",
       "  </thead>\n",
       "  <tbody>\n",
       "    <tr>\n",
       "      <th>0</th>\n",
       "      <td>Yes</td>\n",
       "      <td>Postive</td>\n",
       "      <td>7215716180294683946</td>\n",
       "      <td>0.010000</td>\n",
       "      <td>0.150000</td>\n",
       "      <td>0.170000</td>\n",
       "      <td>0.340000</td>\n",
       "      <td>0.770000</td>\n",
       "      <td>0.590000</td>\n",
       "      <td>0.330000</td>\n",
       "      <td>0.337143</td>\n",
       "      <td>0.230000</td>\n",
       "    </tr>\n",
       "    <tr>\n",
       "      <th>1</th>\n",
       "      <td>Yes</td>\n",
       "      <td>Positive</td>\n",
       "      <td>7210487841732840746</td>\n",
       "      <td>0.012195</td>\n",
       "      <td>0.658537</td>\n",
       "      <td>0.243902</td>\n",
       "      <td>0.085366</td>\n",
       "      <td>0.878049</td>\n",
       "      <td>0.219512</td>\n",
       "      <td>0.573171</td>\n",
       "      <td>0.381533</td>\n",
       "      <td>0.283537</td>\n",
       "    </tr>\n",
       "    <tr>\n",
       "      <th>2</th>\n",
       "      <td>Yes</td>\n",
       "      <td>Positive</td>\n",
       "      <td>7218032675850849582</td>\n",
       "      <td>0.035714</td>\n",
       "      <td>0.375000</td>\n",
       "      <td>0.178571</td>\n",
       "      <td>0.035714</td>\n",
       "      <td>0.785714</td>\n",
       "      <td>0.339286</td>\n",
       "      <td>0.678571</td>\n",
       "      <td>0.346939</td>\n",
       "      <td>0.232143</td>\n",
       "    </tr>\n",
       "    <tr>\n",
       "      <th>3</th>\n",
       "      <td>Yes</td>\n",
       "      <td>Positive</td>\n",
       "      <td>7102205817524555054</td>\n",
       "      <td>0.025000</td>\n",
       "      <td>0.100000</td>\n",
       "      <td>0.175000</td>\n",
       "      <td>0.250000</td>\n",
       "      <td>0.575000</td>\n",
       "      <td>0.600000</td>\n",
       "      <td>0.125000</td>\n",
       "      <td>0.264286</td>\n",
       "      <td>0.225000</td>\n",
       "    </tr>\n",
       "    <tr>\n",
       "      <th>4</th>\n",
       "      <td>Yes</td>\n",
       "      <td>Positive</td>\n",
       "      <td>7220512664575986990</td>\n",
       "      <td>0.000000</td>\n",
       "      <td>0.823529</td>\n",
       "      <td>0.235294</td>\n",
       "      <td>0.058824</td>\n",
       "      <td>0.882353</td>\n",
       "      <td>0.529412</td>\n",
       "      <td>0.294118</td>\n",
       "      <td>0.403361</td>\n",
       "      <td>0.397059</td>\n",
       "    </tr>\n",
       "  </tbody>\n",
       "</table>\n",
       "</div>"
      ],
      "text/plain": [
       "  Sponsored Sentiment             video_id     anger   disgust      fear  \\\n",
       "0       Yes   Postive  7215716180294683946  0.010000  0.150000  0.170000   \n",
       "1       Yes  Positive  7210487841732840746  0.012195  0.658537  0.243902   \n",
       "2       Yes  Positive  7218032675850849582  0.035714  0.375000  0.178571   \n",
       "3       Yes  Positive  7102205817524555054  0.025000  0.100000  0.175000   \n",
       "4       Yes  Positive  7220512664575986990  0.000000  0.823529  0.235294   \n",
       "\n",
       "      happy   neutral       sad  surprise  total_mean  negative_mean  \n",
       "0  0.340000  0.770000  0.590000  0.330000    0.337143       0.230000  \n",
       "1  0.085366  0.878049  0.219512  0.573171    0.381533       0.283537  \n",
       "2  0.035714  0.785714  0.339286  0.678571    0.346939       0.232143  \n",
       "3  0.250000  0.575000  0.600000  0.125000    0.264286       0.225000  \n",
       "4  0.058824  0.882353  0.529412  0.294118    0.403361       0.397059  "
      ]
     },
     "execution_count": 24,
     "metadata": {},
     "output_type": "execute_result"
    }
   ],
   "source": [
    "merged_df.head()"
   ]
  },
  {
   "attachments": {},
   "cell_type": "markdown",
   "metadata": {},
   "source": [
    "## Split data\n"
   ]
  },
  {
   "cell_type": "code",
   "execution_count": 27,
   "metadata": {},
   "outputs": [],
   "source": [
    "# Load label\n",
    "y = merged_df.Sentiment.replace({'Positive': 1, 'Postive': 1, 'Neutral': 0, 'Negative': 0})\n",
    "\n",
    "# load features\n",
    "X = merged_df[['anger', 'disgust', 'fear', 'happy', 'neutral', 'sad', 'surprise', 'total_mean', 'negative_mean']]"
   ]
  },
  {
   "attachments": {},
   "cell_type": "markdown",
   "metadata": {},
   "source": [
    "### Rerun based on 5 different splits for cross validation"
   ]
  },
  {
   "cell_type": "code",
   "execution_count": 94,
   "metadata": {},
   "outputs": [
    {
     "name": "stdout",
     "output_type": "stream",
     "text": [
      "0.75 accuracy with a standard deviation of 0.07\n"
     ]
    }
   ],
   "source": [
    "clf = SVC(kernel='rbf', random_state=24, gamma='scale', probability=True)\n",
    "cv = KFold(n_splits=5, random_state=24, shuffle=True)\n",
    "\n",
    "# load predictions\n",
    "y_pred = cross_val_predict(clf, X, y, cv=cv)\n",
    "y_pred_prob_a = cross_val_predict(clf, X, y, cv=cv, method='predict_proba')\n",
    "\n",
    "# print overal score\n",
    "scores = cross_val_score(clf, X, y, cv=cv)\n",
    "print(\"%0.2f accuracy with a standard deviation of %0.2f\" % (scores.mean(), scores.std()))"
   ]
  },
  {
   "attachments": {},
   "cell_type": "markdown",
   "metadata": {},
   "source": [
    "### Plot confusion matrix"
   ]
  },
  {
   "cell_type": "code",
   "execution_count": 95,
   "metadata": {},
   "outputs": [],
   "source": [
    "cm = metrics.confusion_matrix(y, y_pred)"
   ]
  },
  {
   "cell_type": "code",
   "execution_count": 96,
   "metadata": {},
   "outputs": [
    {
     "data": {
      "text/plain": [
       "<Axes: >"
      ]
     },
     "execution_count": 96,
     "metadata": {},
     "output_type": "execute_result"
    },
    {
     "data": {
      "image/png": "[encoded data removed]",
      "text/plain": [
       "<Figure size 640x480 with 2 Axes>"
      ]
     },
     "metadata": {},
     "output_type": "display_data"
    }
   ],
   "source": [
    "sns.heatmap(cm, annot=True)"
   ]
  }
 ],
 "metadata": {
  "kernelspec": {
   "display_name": "mmsr_redo",
   "language": "python",
   "name": "python3"
  },
  "language_info": {
   "codemirror_mode": {
    "name": "ipython",
    "version": 3
   },
   "file_extension": ".py",
   "mimetype": "text/x-python",
   "name": "python",
   "nbconvert_exporter": "python",
   "pygments_lexer": "ipython3",
   "version": "3.10.11"
  },
  "orig_nbformat": 4
 },
 "nbformat": 4,
 "nbformat_minor": 2
}

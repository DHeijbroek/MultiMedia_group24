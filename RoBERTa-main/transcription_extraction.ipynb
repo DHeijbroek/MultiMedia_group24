{
 "cells": [
  {
   "cell_type": "code",
   "execution_count": 1,
   "metadata": {},
   "outputs": [],
   "source": [
    "import os\n",
    "import speech_recognition as sr\n",
    "import csv\n",
    "from pandas import *"
   ]
  },
  {
   "cell_type": "code",
   "execution_count": 4,
   "metadata": {},
   "outputs": [],
   "source": [
    "path1 = '../video_data/'\n",
    "path2 = './audio_data/'"
   ]
  },
  {
   "attachments": {},
   "cell_type": "markdown",
   "metadata": {},
   "source": [
    "# Video file to Audio file"
   ]
  },
  {
   "cell_type": "code",
   "execution_count": null,
   "metadata": {},
   "outputs": [],
   "source": [
    "for filename in os.listdir(path1):\n",
    "    print(filename)\n",
    "    if (filename.endswith(\".mp4\")): #or .avi, .mpeg, whatever.\n",
    "        id = os.path.splitext(filename)[0]\n",
    "        os.system(\"ffmpeg -i {0} {1}.wav\".format(os.path.join(path1,filename), os.path.join(path2,id)))\n",
    "    else:\n",
    "        continue"
   ]
  },
  {
   "attachments": {},
   "cell_type": "markdown",
   "metadata": {},
   "source": [
    "# Audio file to Text file"
   ]
  },
  {
   "cell_type": "code",
   "execution_count": null,
   "metadata": {},
   "outputs": [],
   "source": [
    "# Run following command for whisper access\n",
    "# ! pip install git+https://github.com/openai/whisper.git soundfile\n",
    "r = sr.Recognizer()\n",
    "header = ['ID', 'Transcription']\n",
    "f = open('transcriptions.csv', 'w')\n",
    "writer = csv.writer(f)\n",
    "writer.writerow(header)\n",
    "\n",
    "for filename in os.listdir(path2):\n",
    "    if (filename.endswith(\".wav\")): #or .avi, .mpeg, whatever.\n",
    "        audio = sr.AudioFile(os.path.join(path2,filename))\n",
    "        with audio as source:\n",
    "            audio = r.record(source)                  \n",
    "            result = r.recognize_whisper(audio)\n",
    "            data = [os.path.splitext(filename)[0], result]\n",
    "            writer.writerow(data)\n",
    "    else:\n",
    "        continue\n",
    "\n",
    "f.close()"
   ]
  }
 ],
 "metadata": {
  "kernelspec": {
   "display_name": "Python 3",
   "language": "python",
   "name": "python3"
  },
  "language_info": {
   "codemirror_mode": {
    "name": "ipython",
    "version": 3
   },
   "file_extension": ".py",
   "mimetype": "text/x-python",
   "name": "python",
   "nbconvert_exporter": "python",
   "pygments_lexer": "ipython3",
   "version": "3.11.3"
  },
  "orig_nbformat": 4
 },
 "nbformat": 4,
 "nbformat_minor": 2
}

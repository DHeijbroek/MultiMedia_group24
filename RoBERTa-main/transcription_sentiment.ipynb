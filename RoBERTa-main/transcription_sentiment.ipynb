{
 "cells": [
  {
   "cell_type": "code",
   "execution_count": 3,
   "metadata": {},
   "outputs": [],
   "source": [
    "import csv\n",
    "from pandas import *\n",
    "import numpy as np\n",
    "import pandas as pd"
   ]
  },
  {
   "attachments": {},
   "cell_type": "markdown",
   "metadata": {},
   "source": [
    "# Running RoBERTA using the SiEBERT:Sentiment in English RoBERTa pipeline"
   ]
  },
  {
   "cell_type": "code",
   "execution_count": null,
   "metadata": {},
   "outputs": [],
   "source": [
    "from transformers import pipeline\n",
    "\n",
    "# Get siebert model and tokenizer packaged in pipeline\n",
    "sentiment_analysis = pipeline(\"sentiment-analysis\",model=\"siebert/sentiment-roberta-large-english\")"
   ]
  },
  {
   "cell_type": "code",
   "execution_count": 27,
   "metadata": {},
   "outputs": [],
   "source": [
    "# Read in Transcriptions\n",
    "f = open('./transcriptions.csv', 'r')\n",
    "file = csv.DictReader(f)\n",
    "sep = '_'\n",
    "ids = []\n",
    "sentences = []\n",
    "for col in file:\n",
    "    ids.append(col['ID'].split(sep,1)[0])\n",
    "    sentences.append(col['Transcription'])\n"
   ]
  },
  {
   "cell_type": "code",
   "execution_count": 11,
   "metadata": {},
   "outputs": [],
   "source": [
    "# Extract seniment of each transcription, transcriptions are truncated to 512 tokens\n",
    "tokenizer_kwargs = {'padding':True,'truncation':True,'max_length':512}\n",
    "sentiment_prob = [sentiment_analysis(x,**tokenizer_kwargs) for x in sentences]"
   ]
  },
  {
   "cell_type": "code",
   "execution_count": 12,
   "metadata": {},
   "outputs": [
    {
     "name": "stdout",
     "output_type": "stream",
     "text": [
      "['POSITIVE', 'POSITIVE', 'POSITIVE', 'NEGATIVE', 'POSITIVE', 'NEGATIVE', 'NEGATIVE', 'NEGATIVE', 'POSITIVE', 'POSITIVE', 'NEGATIVE', 'POSITIVE', 'POSITIVE', 'POSITIVE', 'NEGATIVE', 'POSITIVE', 'POSITIVE', 'POSITIVE', 'POSITIVE', 'POSITIVE', 'POSITIVE', 'POSITIVE', 'POSITIVE', 'POSITIVE', 'POSITIVE', 'POSITIVE', 'POSITIVE', 'NEGATIVE', 'POSITIVE', 'POSITIVE', 'POSITIVE', 'NEGATIVE', 'POSITIVE', 'POSITIVE', 'POSITIVE', 'POSITIVE', 'POSITIVE', 'POSITIVE', 'POSITIVE', 'POSITIVE', 'POSITIVE', 'POSITIVE', 'POSITIVE', 'POSITIVE', 'NEGATIVE', 'POSITIVE', 'POSITIVE', 'POSITIVE', 'POSITIVE', 'POSITIVE', 'POSITIVE', 'NEGATIVE', 'POSITIVE', 'POSITIVE', 'POSITIVE', 'NEGATIVE', 'POSITIVE', 'POSITIVE', 'POSITIVE', 'POSITIVE', 'POSITIVE', 'POSITIVE', 'POSITIVE', 'POSITIVE', 'POSITIVE', 'POSITIVE', 'POSITIVE', 'POSITIVE', 'POSITIVE', 'NEGATIVE', 'POSITIVE', 'POSITIVE', 'NEGATIVE', 'POSITIVE', 'POSITIVE', 'POSITIVE', 'POSITIVE', 'POSITIVE', 'POSITIVE', 'POSITIVE']\n",
      "[0.9988191723823547, 0.9944068193435669, 0.9963228702545166, 0.9992881417274475, 0.9988573789596558, 0.99950110912323, 0.9993403553962708, 0.9970177412033081, 0.9970034956932068, 0.9987950325012207, 0.9995086193084717, 0.9988952279090881, 0.9989093542098999, 0.9986951947212219, 0.9988439083099365, 0.9982252717018127, 0.9987738728523254, 0.9987996816635132, 0.9982224106788635, 0.9988822340965271, 0.9988803267478943, 0.9975879192352295, 0.9988723397254944, 0.9985986351966858, 0.9987980127334595, 0.9988856911659241, 0.9988445043563843, 0.998734176158905, 0.9987971782684326, 0.9970493316650391, 0.9988763928413391, 0.9983314871788025, 0.9986876845359802, 0.9985777139663696, 0.998810887336731, 0.9988906979560852, 0.9989047050476074, 0.9988881945610046, 0.9985404014587402, 0.9987271428108215, 0.9986566305160522, 0.9987890124320984, 0.9811373949050903, 0.9974344372749329, 0.998332679271698, 0.9925277233123779, 0.9952346682548523, 0.9920796751976013, 0.9988085031509399, 0.9989262223243713, 0.9987046718597412, 0.9768061637878418, 0.9983983635902405, 0.9987762570381165, 0.9988307356834412, 0.9993639588356018, 0.9988294243812561, 0.9989159107208252, 0.9988988637924194, 0.9989047050476074, 0.9978141784667969, 0.9988932013511658, 0.9988678693771362, 0.9989174604415894, 0.9988652467727661, 0.9988740086555481, 0.9987974166870117, 0.9967585206031799, 0.998906135559082, 0.9931772947311401, 0.9988431930541992, 0.9969017505645752, 0.9995092153549194, 0.9985277652740479, 0.9988402724266052, 0.9988583326339722, 0.9988592863082886, 0.9985359907150269, 0.9988693594932556, 0.9989156723022461]\n"
     ]
    }
   ],
   "source": [
    "# Store final sentiment and corresponding probability\n",
    "sentiment = []\n",
    "probability = []\n",
    "for sent in sentiment_prob:\n",
    "    sentiment.append(sent[0]['label'])\n",
    "    probability.append(sent[0]['score'])\n",
    "\n"
   ]
  },
  {
   "cell_type": "code",
   "execution_count": 28,
   "metadata": {},
   "outputs": [
    {
     "name": "stdout",
     "output_type": "stream",
     "text": [
      "                VideoID                                      Transcription   \n",
      "0   7124357659771505966   I see why so many celebrities love chotted tu...  \\\n",
      "1   7219073048287153413   I want this much shit All the girls gonna be ...   \n",
      "2   7141347073915374853     Charlotte Tilbury Magic Cream. Hydration Test.   \n",
      "3   7193418545542499630   Hold on friends because I think they're tryin...   \n",
      "4   7131089775624211755   If your base looks like this, you can now do ...   \n",
      "..                  ...                                                ...   \n",
      "75  7219098807437397291   Okay, just coming on here to give a special s...   \n",
      "76  7220512664575986990              I love it. I love it more. I love it!   \n",
      "77  7207173046430354734   Sunday, the most delicious day of the week. B...   \n",
      "78  7227193522351246598   So my skin still has a recover from winter so...   \n",
      "79  7213312295844236550   I hate that I want to recommend this because ...   \n",
      "\n",
      "   Sentiment_RoBERTa  Probability  \n",
      "0           POSITIVE     0.998819  \n",
      "1           POSITIVE     0.994407  \n",
      "2           POSITIVE     0.996323  \n",
      "3           NEGATIVE     0.999288  \n",
      "4           POSITIVE     0.998857  \n",
      "..               ...          ...  \n",
      "75          POSITIVE     0.998858  \n",
      "76          POSITIVE     0.998859  \n",
      "77          POSITIVE     0.998536  \n",
      "78          POSITIVE     0.998869  \n",
      "79          POSITIVE     0.998916  \n",
      "\n",
      "[80 rows x 4 columns]\n"
     ]
    }
   ],
   "source": [
    "# Create dataframe for sentiment and probabilities\n",
    "df_RoBERTa_sentiment = pd.DataFrame({'VideoID': ids, 'Transcription': sentences,'Sentiment_RoBERTa': sentiment,'Probability':probability})\n",
    "print(df_RoBERTa_sentiment)"
   ]
  },
  {
   "cell_type": "code",
   "execution_count": 29,
   "metadata": {},
   "outputs": [
    {
     "name": "stdout",
     "output_type": "stream",
     "text": [
      "                VideoID Sponsored Sentiment\n",
      "0   7215716180294683946       Yes   Postive\n",
      "1   7210487841732840746       Yes  Positive\n",
      "2   7218032675850849582       Yes  Positive\n",
      "3   7102205817524555054       Yes  Positive\n",
      "4   7220512664575986990       Yes  Positive\n",
      "..                  ...       ...       ...\n",
      "75  6990818542262226181        No  Positive\n",
      "76  7166197472560254213        No  Positive\n",
      "77  7203417189737565446        No  Positive\n",
      "78  7098279023851097349        No   Neutral\n",
      "79  7182239739980958982        No   Neutral\n",
      "\n",
      "[80 rows x 3 columns]\n"
     ]
    }
   ],
   "source": [
    "# Read in label file\n",
    "label_df = pd.read_csv('labels.csv', delimiter=';')\n",
    "print(label_df)\n"
   ]
  },
  {
   "cell_type": "code",
   "execution_count": 35,
   "metadata": {},
   "outputs": [
    {
     "name": "stdout",
     "output_type": "stream",
     "text": [
      "                VideoID Sponsored Sentiment   \n",
      "0   7215716180294683946       Yes   Postive  \\\n",
      "1   7210487841732840746       Yes  Positive   \n",
      "2   7218032675850849582       Yes  Positive   \n",
      "3   7102205817524555054       Yes  Positive   \n",
      "4   7220512664575986990       Yes  Positive   \n",
      "..                  ...       ...       ...   \n",
      "75  6990818542262226181        No  Positive   \n",
      "76  7166197472560254213        No  Positive   \n",
      "77  7203417189737565446        No  Positive   \n",
      "78  7098279023851097349        No   Neutral   \n",
      "79  7182239739980958982        No   Neutral   \n",
      "\n",
      "                                        Transcription Sentiment_RoBERTa   \n",
      "0    The confidence boost, a glowy and dewy base g...          POSITIVE  \\\n",
      "1    Watch how I create this glowing skin makeup b...          POSITIVE   \n",
      "2    I get why this cream by Charlotte Tilbury is ...          POSITIVE   \n",
      "3                           Thanks for watching guys!          POSITIVE   \n",
      "4               I love it. I love it more. I love it!          POSITIVE   \n",
      "..                                                ...               ...   \n",
      "75   I need no one. You're exciting boy, confining...          POSITIVE   \n",
      "76   You and I baby, who cares, I don't need to ca...          NEGATIVE   \n",
      "77   Look at this. Oh! Perfect. Oh my God. Isn't i...          POSITIVE   \n",
      "78   Okay, I need some assistance. Has any of you ...          NEGATIVE   \n",
      "79   Yesterday I went to SACS and I got some shall...          POSITIVE   \n",
      "\n",
      "    Probability  \n",
      "0      0.998888  \n",
      "1      0.998891  \n",
      "2      0.998886  \n",
      "3      0.998800  \n",
      "4      0.998859  \n",
      "..          ...  \n",
      "75     0.997434  \n",
      "76     0.998331  \n",
      "77     0.998657  \n",
      "78     0.993177  \n",
      "79     0.998789  \n",
      "\n",
      "[80 rows x 6 columns]\n"
     ]
    }
   ],
   "source": [
    "# Merge two dataframes \n",
    "df_RoBERTa_sentiment['VideoID'] = df_RoBERTa_sentiment['VideoID'].astype(int)\n",
    "df_final = pd.merge(label_df, df_RoBERTa_sentiment, on=\"VideoID\")\n",
    "print(df_final)"
   ]
  },
  {
   "cell_type": "code",
   "execution_count": 37,
   "metadata": {},
   "outputs": [],
   "source": [
    "# Write final dataframe to results.csv\n",
    "df_final.to_csv('./results.csv', encoding='utf-8', index=False)"
   ]
  }
 ],
 "metadata": {
  "kernelspec": {
   "display_name": "Python 3",
   "language": "python",
   "name": "python3"
  },
  "language_info": {
   "codemirror_mode": {
    "name": "ipython",
    "version": 3
   },
   "file_extension": ".py",
   "mimetype": "text/x-python",
   "name": "python",
   "nbconvert_exporter": "python",
   "pygments_lexer": "ipython3",
   "version": "3.11.3"
  },
  "orig_nbformat": 4
 },
 "nbformat": 4,
 "nbformat_minor": 2
}
